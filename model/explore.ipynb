{
 "cells": [
  {
   "cell_type": "code",
   "execution_count": null,
   "id": "3705c1ae",
   "metadata": {},
   "outputs": [],
   "source": [
    "import pandas as pd\n",
    "import random"
   ]
  },
  {
   "cell_type": "code",
   "execution_count": null,
   "id": "66d4a4ea",
   "metadata": {},
   "outputs": [],
   "source": [
    "df = pd.read_excel(\"1.xlsx\", sheet_name=\"Data\", header=6)"
   ]
  },
  {
   "cell_type": "code",
   "execution_count": null,
   "id": "5bddab95",
   "metadata": {},
   "outputs": [],
   "source": [
    "df.info()"
   ]
  },
  {
   "cell_type": "code",
   "execution_count": null,
   "id": "2fe4e8e6",
   "metadata": {},
   "outputs": [],
   "source": [
    "df = df.drop(df.columns[0], axis=1)\n",
    "df = df.dropna(axis=1)"
   ]
  },
  {
   "cell_type": "code",
   "execution_count": null,
   "id": "311b2451",
   "metadata": {},
   "outputs": [],
   "source": [
    "df.info()"
   ]
  },
  {
   "cell_type": "code",
   "execution_count": null,
   "id": "7e015b01",
   "metadata": {},
   "outputs": [],
   "source": [
    "final_cat = [\"Vendor Mapping\", \"Final Category\", \"Final Mapping\"]\n",
    "\n",
    "unique_finals = {}\n",
    "for f in final_cat:\n",
    "    unique_finals[f] = df[f].unique()\n",
    "unique_finals"
   ]
  },
  {
   "cell_type": "code",
   "execution_count": null,
   "id": "cac0dc15",
   "metadata": {},
   "outputs": [],
   "source": [
    "df.iloc[10]"
   ]
  },
  {
   "cell_type": "code",
   "execution_count": null,
   "id": "f1070979",
   "metadata": {},
   "outputs": [],
   "source": [
    "split_column_index = df.columns.get_loc('Unique Id')\n",
    "\n",
    "df1 = df.iloc[:, :split_column_index]\n",
    "df2 = df.iloc[:, split_column_index:]"
   ]
  },
  {
   "cell_type": "code",
   "execution_count": null,
   "id": "3e6d83e8",
   "metadata": {},
   "outputs": [],
   "source": [
    "index = random.randint(0, df1.shape[0])\n",
    "print(\"ORIGINAL DATA:\")\n",
    "print(df2.iloc[index])\n",
    "print(\"\\n\")\n",
    "print(\"CREATED DATA:\")\n",
    "print(df1.iloc[index])"
   ]
  },
  {
   "cell_type": "code",
   "execution_count": null,
   "id": "2eb8fbe2",
   "metadata": {},
   "outputs": [],
   "source": [
    "similar = [ [\"Final Mapping\", \"Vendor Mapping\"], \n",
    "            [\"Original Vendor\", \"Vendor\"], \n",
    "            [\"Deduped Vendor\", \"Original Vendor\"],\n",
    "            [\"Date\", \"Invc Date\"],\n",
    "            [\"Invoice Description\", \"Description\"],\n",
    "            [\"Amount\", \"Invoice Line Amt\"],\n",
    "            [\"GL Account Description\", \"GL Description\"] ]"
   ]
  },
  {
   "cell_type": "code",
   "execution_count": null,
   "id": "373fcab3",
   "metadata": {},
   "outputs": [],
   "source": [
    "difference_map = {}\n",
    "for s in similar:\n",
    "    difference_map[s[0] + \" vs \" + s[1]] = (df[s[0]] != df[s[1]])"
   ]
  },
  {
   "cell_type": "code",
   "execution_count": null,
   "id": "66213534",
   "metadata": {},
   "outputs": [],
   "source": [
    "difference_map_counts = {}\n",
    "for k, v in difference_map.items():\n",
    "    difference_map_counts[k] = v.value_counts()"
   ]
  },
  {
   "cell_type": "code",
   "execution_count": null,
   "id": "09a49d79",
   "metadata": {},
   "outputs": [],
   "source": [
    "difference_map_counts"
   ]
  },
  {
   "cell_type": "code",
   "execution_count": null,
   "id": "a590f1c6",
   "metadata": {},
   "outputs": [],
   "source": [
    "df[difference_map[\"Deduped Vendor vs Original Vendor\"] == True]"
   ]
  },
  {
   "cell_type": "code",
   "execution_count": null,
   "id": "56a4262b",
   "metadata": {},
   "outputs": [],
   "source": []
  }
 ],
 "metadata": {
  "kernelspec": {
   "display_name": "Python 3 (ipykernel)",
   "language": "python",
   "name": "python3"
  },
  "language_info": {
   "codemirror_mode": {
    "name": "ipython",
    "version": 3
   },
   "file_extension": ".py",
   "mimetype": "text/x-python",
   "name": "python",
   "nbconvert_exporter": "python",
   "pygments_lexer": "ipython3",
   "version": "3.10.10"
  }
 },
 "nbformat": 4,
 "nbformat_minor": 5
}
